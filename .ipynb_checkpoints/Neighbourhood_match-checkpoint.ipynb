{
 "cells": [
  {
   "cell_type": "markdown",
   "metadata": {},
   "source": [
    "Find neighbourhoods in a city that has a similar venue profile to an address in another city.\n",
    "In this implementation, the code segments and clusters Toronto neighborhoods based on data scraped from the web and then calculates what neighbourhood profiles most closely match a given address (assumed to be in New York City). "
   ]
  },
  {
   "cell_type": "code",
   "execution_count": null,
   "metadata": {},
   "outputs": [],
   "source": [
    "import pandas as pd\n",
    "import numpy as np\n",
    "import requests\n",
    "import json\n",
    "\n",
    "!pip install geocoder\n",
    "import geocoder # import geocoder, used to source neighbourhood coordinates via Google\n",
    "\n",
    "from scipy.spatial import distance"
   ]
  },
  {
   "cell_type": "markdown",
   "metadata": {},
   "source": [
    "Gather user input and define variables"
   ]
  },
  {
   "cell_type": "code",
   "execution_count": null,
   "metadata": {},
   "outputs": [],
   "source": [
    "#define Google API key\n",
    "API_key = input(\"Google API key: \")\n",
    "\n",
    "CLIENT_ID = input('Foursquare client ID: ') # Foursquare ID\n",
    "CLIENT_SECRET = input('Foursquare client secret: ') # Foursquare Secret\n",
    "VERSION = '20180605' # Foursquare API version\n",
    "LIMIT = 100 # A default Foursquare API limit value\n",
    "\n",
    "# reference address for neighbourhood match\n",
    "ref_address = input('Reference address: ') "
   ]
  },
  {
   "cell_type": "markdown",
   "metadata": {},
   "source": [
    "Look up coordinates of reference address and determine nearby venues"
   ]
  },
  {
   "cell_type": "code",
   "execution_count": null,
   "metadata": {},
   "outputs": [],
   "source": [
    "# initialize variable\n",
    "lat_lng_coords = None\n",
    "\n",
    "#lookup and store reference address coordinates\n",
    "g = geocoder.google(ref_address,key=API_key)\n",
    "lat_lng_coords = g.latlng    \n",
    "ref_latitude = lat_lng_coords[0]\n",
    "ref_longitude = lat_lng_coords[1]"
   ]
  },
  {
   "cell_type": "markdown",
   "metadata": {},
   "source": [
    "Define function that gets the top 100 venues within 500 meters of a given neighborhood"
   ]
  },
  {
   "cell_type": "code",
   "execution_count": null,
   "metadata": {},
   "outputs": [],
   "source": [
    "def getNearbyVenues(names, latitudes, longitudes, radius=500):\n",
    "    \n",
    "    venues_list=[]\n",
    "    for name, lat, lng in zip(names, latitudes, longitudes):\n",
    "                   \n",
    "        # create the API request URL\n",
    "        url = 'https://api.foursquare.com/v2/venues/explore?&client_id={}&client_secret={}&v={}&ll={},{}&radius={}&limit={}'.format(\n",
    "            CLIENT_ID, \n",
    "            CLIENT_SECRET, \n",
    "            VERSION, \n",
    "            lat, \n",
    "            lng, \n",
    "            radius, \n",
    "            LIMIT)\n",
    "            \n",
    "        # make the GET request\n",
    "        results = requests.get(url).json()[\"response\"]['groups'][0]['items']\n",
    "        \n",
    "        if len(results) == 0: \n",
    "            # if no venues were found within the radius specified\n",
    "            venues_list.append([(\n",
    "                name, \n",
    "                lat, \n",
    "                lng, \n",
    "                \"No venues nearby\", \n",
    "                lat, \n",
    "                lng,  \n",
    "                \"None\")])     \n",
    "        else:\n",
    "            # return only relevant information for each nearby venue\n",
    "            venues_list.append([(\n",
    "                name, \n",
    "                lat, \n",
    "                lng, \n",
    "                v['venue']['name'], \n",
    "                v['venue']['location']['lat'], \n",
    "                v['venue']['location']['lng'],  \n",
    "                v['venue']['categories'][0]['name']) for v in results])\n",
    "\n",
    "    nearby_venues = pd.DataFrame([item for venue_list in venues_list for item in venue_list])\n",
    "    nearby_venues.columns = ['Neighbourhood', \n",
    "                  'Neighbourhood Latitude', \n",
    "                  'Neighbourhood Longitude', \n",
    "                  'Venue', \n",
    "                  'Venue Latitude', \n",
    "                  'Venue Longitude', \n",
    "                  'Venue Category']\n",
    "    \n",
    "    return(nearby_venues)"
   ]
  },
  {
   "cell_type": "code",
   "execution_count": null,
   "metadata": {},
   "outputs": [],
   "source": [
    "ref_venues = getNearbyVenues(names=[ref_address], \n",
    "                                 latitudes=[ref_latitude],\n",
    "                                 longitudes=[ref_longitude]\n",
    "                             )"
   ]
  },
  {
   "cell_type": "markdown",
   "metadata": {},
   "source": [
    "Encode venue labels to binary"
   ]
  },
  {
   "cell_type": "code",
   "execution_count": null,
   "metadata": {},
   "outputs": [],
   "source": [
    "# one hot encoding\n",
    "ref_onehot = pd.get_dummies(ref_venues[['Venue Category']], prefix=\"\", prefix_sep=\"\")\n",
    "\n",
    "# add label in neighborhood column to allign structure with neighbourhood dataframe\n",
    "ref_onehot['Neighbourhood'] = \"Current address\"\n",
    "\n",
    "# move neighborhood column to the first column\n",
    "fixed_columns = [ref_onehot.columns[-1]] + list(ref_onehot.columns[:-1])\n",
    "ref_onehot = ref_onehot[fixed_columns]\n",
    "\n",
    "ref_grouped = ref_onehot.groupby('Neighbourhood').mean().reset_index()"
   ]
  },
  {
   "cell_type": "markdown",
   "metadata": {},
   "source": [
    "Define function that sorts venues in descending order and then create a dataframe that shows the top 10 venues for the reference address as well as a dataframe that stores the venue profile for the top n venues"
   ]
  },
  {
   "cell_type": "code",
   "execution_count": null,
   "metadata": {},
   "outputs": [],
   "source": [
    "def return_most_common_venues(row, num_top_venues):\n",
    "    row_categories = row.iloc[1:]\n",
    "    row_categories_sorted = row_categories.sort_values(ascending=False)\n",
    "\n",
    "    return row_categories_sorted.index.values[0:num_top_venues]"
   ]
  },
  {
   "cell_type": "code",
   "execution_count": null,
   "metadata": {},
   "outputs": [],
   "source": [
    "num_top_venues = 10\n",
    "\n",
    "indicators = ['st', 'nd', 'rd']\n",
    "\n",
    "# create columns according to number of top venues\n",
    "columns = ['Neighbourhood']\n",
    "for ind in np.arange(num_top_venues):\n",
    "    try:\n",
    "        columns.append('{}{} Most Common Venue'.format(ind+1, indicators[ind]))\n",
    "    except:\n",
    "        columns.append('{}th Most Common Venue'.format(ind+1))\n",
    "\n",
    "# create a new dataframe\n",
    "ref_venues_sorted = pd.DataFrame(columns=columns)\n",
    "ref_venues_sorted['Neighbourhood'] = ref_grouped['Neighbourhood']\n",
    "\n",
    "for ind in np.arange(ref_grouped.shape[0]):\n",
    "    ref_venues_sorted.iloc[ind, 1:] = return_most_common_venues(ref_grouped.iloc[ind, :], num_top_venues)"
   ]
  },
  {
   "cell_type": "code",
   "execution_count": null,
   "metadata": {},
   "outputs": [],
   "source": [
    "#extract the venue profile for the top n venues in the reference neighbourhood\n",
    "\n",
    "top_venues = pd.DataFrame(ref_grouped[ref_venues_sorted.iloc[0,1:]])\n",
    "top_venues['Neighbourhood']=ref_address\n",
    "top_venues.set_index('Neighbourhood',inplace=True)\n",
    "#top_venues.head()"
   ]
  },
  {
   "cell_type": "markdown",
   "metadata": {},
   "source": [
    "Scrape Toronto neighborhood data from Wikipedia"
   ]
  },
  {
   "cell_type": "code",
   "execution_count": null,
   "metadata": {},
   "outputs": [],
   "source": [
    "#set wikipedia url that shows Toronto neighborhoods and postal codes\n",
    "wiki_url = 'https://en.wikipedia.org/wiki/List_of_postal_codes_of_Canada:_M'"
   ]
  },
  {
   "cell_type": "code",
   "execution_count": null,
   "metadata": {},
   "outputs": [],
   "source": [
    "df_raw = pd.read_html(wiki_url)"
   ]
  },
  {
   "cell_type": "code",
   "execution_count": null,
   "metadata": {},
   "outputs": [],
   "source": [
    "#Read the first table on the page into a data frame (assuming that the first table contains the neighborhood data)\n",
    "neighborhoods = pd.DataFrame(df_raw[0])"
   ]
  },
  {
   "cell_type": "code",
   "execution_count": null,
   "metadata": {},
   "outputs": [],
   "source": [
    "#drop unassigned post codes\n",
    "neighborhoods=neighborhoods[neighborhoods['Borough']!='Not assigned'].reset_index(drop=True)"
   ]
  },
  {
   "cell_type": "markdown",
   "metadata": {},
   "source": [
    "Get neighborhood coordinates from Google"
   ]
  },
  {
   "cell_type": "code",
   "execution_count": null,
   "metadata": {},
   "outputs": [],
   "source": [
    "# initialize variables\n",
    "lat_lng_coords = None\n",
    "latitude = []\n",
    "longitude = []\n",
    "\n",
    "#Lookup coordinates for postal codes and store in latitude, longitude lists\n",
    "for index, postal_code in zip(range(0,len(neighborhoods['Postal Code'])),neighborhoods['Postal Code']):\n",
    "    g = geocoder.google('{}, Toronto, Ontario'.format(postal_code),key=API_key)\n",
    "    lat_lng_coords = g.latlng    \n",
    "    latitude.append(lat_lng_coords[0])\n",
    "    longitude.append(lat_lng_coords[1])"
   ]
  },
  {
   "cell_type": "code",
   "execution_count": null,
   "metadata": {},
   "outputs": [],
   "source": [
    "neighborhoods['Latitude'] =  latitude\n",
    "neighborhoods['Longitude'] =  longitude"
   ]
  },
  {
   "cell_type": "markdown",
   "metadata": {},
   "source": [
    "Create new data frame that includes venue data for each neighborhood in Toronto"
   ]
  },
  {
   "cell_type": "code",
   "execution_count": null,
   "metadata": {},
   "outputs": [],
   "source": [
    "Toronto_venues = getNearbyVenues(names=neighborhoods['Neighbourhood'], \n",
    "                                 latitudes=neighborhoods['Latitude'],\n",
    "                                 longitudes=neighborhoods['Longitude']\n",
    "                                  )"
   ]
  },
  {
   "cell_type": "markdown",
   "metadata": {},
   "source": [
    "Encode venue labels to binary"
   ]
  },
  {
   "cell_type": "code",
   "execution_count": null,
   "metadata": {},
   "outputs": [],
   "source": [
    "# one hot encoding\n",
    "Toronto_onehot = pd.get_dummies(Toronto_venues[['Venue Category']], prefix=\"\", prefix_sep=\"\")\n",
    "\n",
    "# add neighborhood column back to dataframe\n",
    "Toronto_onehot['Neighbourhood'] = Toronto_venues['Neighbourhood'] \n",
    "\n",
    "# move neighborhood column to the first column\n",
    "fixed_columns = [Toronto_onehot.columns[-1]] + list(Toronto_onehot.columns[:-1])\n",
    "Toronto_onehot = Toronto_onehot[fixed_columns]\n",
    "\n",
    "Toronto_grouped = Toronto_onehot.groupby('Neighbourhood').mean().reset_index()"
   ]
  },
  {
   "cell_type": "code",
   "execution_count": null,
   "metadata": {},
   "outputs": [],
   "source": [
    "## create a new dataframe\n",
    "#neighborhoods_venues_sorted = pd.DataFrame(columns=columns)\n",
    "#neighborhoods_venues_sorted['Neighbourhood'] = Toronto_grouped['Neighbourhood']\n",
    "\n",
    "#for ind in np.arange(Toronto_grouped.shape[0]):\n",
    "#    neighborhoods_venues_sorted.iloc[ind, 1:] = return_most_common_venues(Toronto_grouped.iloc[ind, :], num_top_venues)\n",
    "\n",
    "#neighborhoods_venues_sorted.head()"
   ]
  },
  {
   "cell_type": "markdown",
   "metadata": {},
   "source": [
    "Clean data set where a neighbourhood has less that the num_top_venues number of venues"
   ]
  },
  {
   "cell_type": "code",
   "execution_count": null,
   "metadata": {},
   "outputs": [],
   "source": [
    "#neighborhoods_venues_sorted_clean = neighborhoods_venues_sorted.copy()\n",
    "#for nhood in range(neighborhoods_venues_sorted_clean.shape[0]):\n",
    "#    for ven in range(num_top_venues):\n",
    "#        current_venue = neighborhoods_venues_sorted_clean.iloc[nhood,ven+1]\n",
    "#        if Toronto_grouped.loc[nhood,current_venue] == 0.0:\n",
    "#            neighborhoods_venues_sorted_clean.iloc[nhood,ven+1] = \"None\""
   ]
  },
  {
   "cell_type": "markdown",
   "metadata": {},
   "source": [
    "Check if any of the top venues from the reference address are missing from the Toronto venue list and backfill if needed"
   ]
  },
  {
   "cell_type": "code",
   "execution_count": null,
   "metadata": {},
   "outputs": [],
   "source": [
    "#Check if the Toronto data set contains all the venues in the top venues list for the reference address\n",
    "top_venues.columns.isin(Toronto_grouped.columns)\n",
    "#create series of zero values in case Toronoto data set need to be expanded with missing venues\n",
    "zero_data = np.zeros(shape=Toronto_grouped.shape[0])"
   ]
  },
  {
   "cell_type": "code",
   "execution_count": null,
   "metadata": {},
   "outputs": [],
   "source": [
    "top_venues_columns_match = top_venues.columns.isin(Toronto_grouped.columns)\n",
    "for col in np.arange(top_venues_columns_match.shape[0]):\n",
    "    if not top_venues_columns_match[col]:\n",
    "        Toronto_grouped[top_venues.columns[col]] = zero_data"
   ]
  },
  {
   "cell_type": "markdown",
   "metadata": {},
   "source": [
    "Subset of neighbourhood data that shows the overlapping profile with the refrence address"
   ]
  },
  {
   "cell_type": "code",
   "execution_count": null,
   "metadata": {},
   "outputs": [],
   "source": [
    "Toronto_venue_profile = pd.DataFrame(Toronto_grouped[ref_venues_sorted.iloc[0,1:]])\n",
    "Toronto_venue_profile['Neighbourhood'] = Toronto_grouped['Neighbourhood']\n",
    "Toronto_venue_profile.set_index('Neighbourhood',inplace=True)"
   ]
  },
  {
   "cell_type": "markdown",
   "metadata": {},
   "source": [
    "Calculate similarity of Toronto neighbourhood venue profile to the reference address, using cosine distance"
   ]
  },
  {
   "cell_type": "code",
   "execution_count": null,
   "metadata": {},
   "outputs": [],
   "source": [
    "similarity_cos = pd.Series(dtype='float64')\n",
    "for candidate in Toronto_grouped['Neighbourhood']:\n",
    "    if np.any(Toronto_venue_profile.loc[candidate]):\n",
    "       similarity_cos[candidate] = distance.cosine(top_venues.iloc[0,:], Toronto_venue_profile.loc[candidate])\n",
    "similarity_cos.sort_values(ascending=True,inplace=True)"
   ]
  },
  {
   "cell_type": "code",
   "execution_count": null,
   "metadata": {},
   "outputs": [],
   "source": [
    "similarity_cos"
   ]
  }
 ],
 "metadata": {
  "kernelspec": {
   "display_name": "Python 3",
   "language": "python",
   "name": "python3"
  },
  "language_info": {
   "codemirror_mode": {
    "name": "ipython",
    "version": 3
   },
   "file_extension": ".py",
   "mimetype": "text/x-python",
   "name": "python",
   "nbconvert_exporter": "python",
   "pygments_lexer": "ipython3",
   "version": "3.8.5"
  }
 },
 "nbformat": 4,
 "nbformat_minor": 4
}
